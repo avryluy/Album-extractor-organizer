{
 "cells": [
  {
   "cell_type": "code",
   "execution_count": 5,
   "id": "37104d12",
   "metadata": {},
   "outputs": [],
   "source": [
    "import os\n",
    "import shutil as sht"
   ]
  },
  {
   "cell_type": "code",
   "execution_count": 49,
   "id": "a3d46eed",
   "metadata": {},
   "outputs": [
    {
     "name": "stdout",
     "output_type": "stream",
     "text": [
      "Album(My Album, Avry Luy)\n",
      "[Track(My Track)]\n"
     ]
    }
   ],
   "source": [
    "source = r\"C:\\Users\\avryl\\Desktop\\Music_Zips\"\n",
    "dest = r\"C:\\Users\\avryl\\Music\"\n",
    "\n",
    "\n",
    "# OBJECTS\n",
    "class albumExtractor:\n",
    "    def __init__(self, source_dir, dest_dir):\n",
    "        self.source_dir = source_dir\n",
    "        self.dest_dir = dest_dir\n",
    "\n",
    "    def __str__(self):\n",
    "        print(f\"Source: {self.source_dir}\\nDestination: {self.dest_dir}\")\n",
    "\n",
    "\n",
    "class Album:\n",
    "    def __init__(self, album_path, artist_name, album_name):\n",
    "        self.album_path = album_path\n",
    "        self.album_name = album_name\n",
    "        self.artist_name = artist_name\n",
    "        self.tracks = []\n",
    "\n",
    "    def add_tracks(self, *tracks):\n",
    "        for track in tracks:\n",
    "            track.album = self\n",
    "            self.tracks.append(track)\n",
    "\n",
    "    # def __str__(self):\n",
    "    #     print(f\"Album Data: {self.album_name}, {self.artist_name}, {self.artist_name}\")\n",
    "\n",
    "    def __repr__(self):\n",
    "        return f\"Album({self.album_name}, {self.artist_name})\"\n",
    "\n",
    "\n",
    "class Track:\n",
    "    def __init__(self, track_name):\n",
    "        self.track_name = track_name\n",
    "\n",
    "    def __str__(self):\n",
    "        print(f\"Parent Album Info: {self.album_name}\")\n",
    "        print(f\"Track Info: {self.track_name}\")\n",
    "\n",
    "    def __repr__(self):\n",
    "        return f\"Track({self.track_name})\"\n",
    "\n",
    "\n",
    "# MAIN()\n",
    "# a = albumExtractor(source, dest)\n",
    "\n",
    "album1 = Album(source, \"Avry Luy\", \"My Album\")\n",
    "track1 = Track(\"My Track\")\n",
    "\n",
    "album1.add_tracks(track1)\n",
    "\n",
    "print(album1)\n",
    "print(album1.tracks)\n"
   ]
  },
  {
   "cell_type": "code",
   "execution_count": 9,
   "id": "c1f3b41c",
   "metadata": {},
   "outputs": [],
   "source": [
    "def pathStatSize(x):\n",
    "    xDir = os.listdir(x)\n",
    "    pathSize = len(xDir)\n",
    "    return pathSize\n"
   ]
  },
  {
   "cell_type": "code",
   "execution_count": 10,
   "id": "66ca7e07",
   "metadata": {},
   "outputs": [
    {
     "data": {
      "text/plain": [
       "4"
      ]
     },
     "execution_count": 10,
     "metadata": {},
     "output_type": "execute_result"
    }
   ],
   "source": [
    "pathStatSize(source)"
   ]
  },
  {
   "cell_type": "code",
   "execution_count": null,
   "id": "6ec63dc8",
   "metadata": {},
   "outputs": [
    {
     "name": "stdout",
     "output_type": "stream",
     "text": [
      "C:\\Users\\avryl\\Desktop\\Music_Zips\n",
      "C:\\Users\\avryl\\Desktop\\Music_Zips\n",
      "C:\\Users\\avryl\\Desktop\\Music_Zips\n",
      "C:\\Users\\avryl\\Desktop\\Music_Zips\n"
     ]
    }
   ],
   "source": [
    "from pathlib import Path\n",
    "\n",
    "source_path = Path(source)\n",
    "albums =[]\n",
    "\n",
    "for child in source_path.iterdir():\n",
    "    if child.match(\"*.zip\"):\n",
    "        #parse text from zip to get album and artist info\n",
    "        foldername = child.name.split(\".\")[0]\n",
    "        artist_album = foldername.split(\" - \")\n",
    "        artistname, albumname = artist_album[0], artist_album[1]\n",
    "        album_concat = r\"\\\\\".join([dest,foldername])\n",
    "        albumpath = Path(album_concat)\n",
    "        extract_path = r\"\\\\\".join([source,foldername])\n",
    "        # create folder to unzip files into\n",
    "        os.mkdir(extract_path)\n",
    "        # print(type(dest))\n",
    "        # print(type(foldername))\n",
    "        \n"
   ]
  },
  {
   "cell_type": "code",
   "execution_count": null,
   "id": "b8d7765f",
   "metadata": {},
   "outputs": [],
   "source": [
    "def fileRename(fileRenamePath, tr):\n",
    "    for file in fileRenamePath.iterdir():\n",
    "        filePart = str(file.suffix)\n",
    "        nameStrip = artistName + \" - \" + albumName + \" - \"\n",
    "        newName = file.name.replace(nameStrip, \"\")\n",
    "        newNamePath = albumPath / path.Path(newName)\n",
    "        if filePart in audioExtension and pathStatSize(albumPath) > 0 and file.name == newName:\n",
    "            print(\"Files already cleaned and existing.\")\n",
    "            break\n",
    "        elif filePart in audioExtension and pathStatSize(albumPath) > 0:\n",
    "            file.rename(newNamePath)\n",
    "            # print(\"Renamed existing files.\")\n",
    "        else:\n",
    "            file.rename(newNamePath)\n",
    "            print(\"Files renamed.\")\n",
    "\n"
   ]
  },
  {
   "cell_type": "code",
   "execution_count": null,
   "id": "816d7865",
   "metadata": {},
   "outputs": [],
   "source": [
    "def zipManager(zipManPath, downloadPath, musicLibrary):\n",
    "    for child in zipManPath.iterdir():\n",
    "        if child.match(\"*.zip\"):\n",
    "            global folderName\n",
    "            folderName = child.name.split(\".\")[0]\n",
    "            # splice zip name to get Artist, store in variable\n",
    "            global artistName\n",
    "            artistName = folderName.split(\" - \")[0]\n",
    "            # splice zip name to get album name, store in variable\n",
    "            global albumName\n",
    "            albumName = folderName.split(\" - \")[1]\n",
    "            # capture path of extracted folder\n",
    "            global extractFolder\n",
    "            print(\"Evaluating {} by {}\").format(albumName, artistName)\n",
    "            extractFolder = downloadPath / folderName\n",
    "            os.mkdir(extractFolder)\n",
    "            # Capture Music Library Artist Path\n",
    "            global artistPath\n",
    "            artistPath =  musicLibrary / artistName\n",
    "            # store zip path in a variable\n",
    "            childPath = downloadPath / child\n",
    "            # Unpack the zipfile into a directory of the zips name\n",
    "            sht.unpack_archive(childPath,extractFolder,\"zip\")\n",
    "            print(\"Album Extracted\")\n",
    "            # Check if artist folder exists\n",
    "            artistCheck = artistPath.exists()\n",
    "            # Create Artist folder if it doesn't exist\n",
    "            if artistCheck is False:\n",
    "                print(\"Artist directory doesn't exist. Creating...\")\n",
    "                artistPath.mkdir()\n",
    "                print(\"Done.\")\n",
    "            # Capture Music Library Album Path\n",
    "            global albumPath\n",
    "            albumPath = artistPath / albumName\n",
    "            # Create path for album folders that aren't cleaned up\n",
    "            badFolderPath = artistPath / folderName\n",
    "            # check if album exists\n",
    "            albumCheck = albumPath.exists()\n",
    "            # check if uncleaned album exists\n",
    "            badFolderCheck = badFolderPath.exists()\n",
    "            if badFolderCheck is True and (pathStatSize(badFolderPath) == 0):\n",
    "                print(\"Badly named album exists and is empty.\")\n",
    "                sht.rmtree(badFolderPath)\n",
    "                sht.move(extractFolder, albumPath)\n",
    "            elif badFolderCheck is True and (pathStatSize(badFolderPath) > 0):\n",
    "                print(\"Badly named album exists and is populated.\")\n",
    "                sht.move(badFolderPath, albumPath)\n",
    "                sht.rmtree(extractFolder)\n",
    "            elif albumCheck is False:\n",
    "                print(\"Moving files...\")\n",
    "                # Move new directory in Artist directory\n",
    "                sht.move(extractFolder, albumPath)\n",
    "            # If album folder exists but is empty, populate it with files.\n",
    "            elif albumCheck is True and (pathStatSize(albumPath) == 0):\n",
    "                print(\"Folder exists but nothing is inside. Copying...\")\n",
    "                sht.copytree(extractFolder, albumPath, dirs_exist_ok=True)\n",
    "                sht.rmtree(extractFolder)\n",
    "            else:\n",
    "                print(\"Album already exists here.\")\n",
    "                sht.rmtree(extractFolder)\n",
    "            os.remove(childPath)\n",
    "        fileRename(albumPath)\n",
    "        print(\"Download Directory cleaned.\")\n"
   ]
  }
 ],
 "metadata": {
  "kernelspec": {
   "display_name": ".venv (3.12.1)",
   "language": "python",
   "name": "python3"
  },
  "language_info": {
   "codemirror_mode": {
    "name": "ipython",
    "version": 3
   },
   "file_extension": ".py",
   "mimetype": "text/x-python",
   "name": "python",
   "nbconvert_exporter": "python",
   "pygments_lexer": "ipython3",
   "version": "3.12.1"
  }
 },
 "nbformat": 4,
 "nbformat_minor": 5
}
